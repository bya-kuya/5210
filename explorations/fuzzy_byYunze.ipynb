{
 "cells": [
  {
   "cell_type": "markdown",
   "id": "43cea27a",
   "metadata": {},
   "source": [
    "# Dataset Import"
   ]
  },
  {
   "cell_type": "code",
   "execution_count": 1,
   "id": "8d6354a0",
   "metadata": {},
   "outputs": [],
   "source": [
    "import pandas as pd\n",
    "# Load the datasets\n",
    "left_dataset_path = '../data/left_dataset.csv'\n",
    "right_dataset_path = '../data/right_dataset.csv'\n",
    "\n",
    "left_dataset = pd.read_csv(left_dataset_path)\n",
    "right_dataset = pd.read_csv(right_dataset_path)"
   ]
  },
  {
   "cell_type": "code",
   "execution_count": 2,
   "id": "36d022a2",
   "metadata": {
    "scrolled": true
   },
   "outputs": [
    {
     "data": {
      "text/html": [
       "<div>\n",
       "<style scoped>\n",
       "    .dataframe tbody tr th:only-of-type {\n",
       "        vertical-align: middle;\n",
       "    }\n",
       "\n",
       "    .dataframe tbody tr th {\n",
       "        vertical-align: top;\n",
       "    }\n",
       "\n",
       "    .dataframe thead th {\n",
       "        text-align: right;\n",
       "    }\n",
       "</style>\n",
       "<table border=\"1\" class=\"dataframe\">\n",
       "  <thead>\n",
       "    <tr style=\"text-align: right;\">\n",
       "      <th></th>\n",
       "      <th>entity_id</th>\n",
       "      <th>name</th>\n",
       "      <th>address</th>\n",
       "      <th>city</th>\n",
       "      <th>state</th>\n",
       "      <th>postal_code</th>\n",
       "      <th>categories</th>\n",
       "    </tr>\n",
       "  </thead>\n",
       "  <tbody>\n",
       "    <tr>\n",
       "      <th>0</th>\n",
       "      <td>1</td>\n",
       "      <td>The UPS Store</td>\n",
       "      <td>87 Grasso Plaza Shopping Center</td>\n",
       "      <td>Affton</td>\n",
       "      <td>MO</td>\n",
       "      <td>63123.0</td>\n",
       "      <td>Shipping Centers, Local Services, Notaries, Ma...</td>\n",
       "    </tr>\n",
       "    <tr>\n",
       "      <th>1</th>\n",
       "      <td>2</td>\n",
       "      <td>St Honore Pastries</td>\n",
       "      <td>935 Race St</td>\n",
       "      <td>Philadelphia</td>\n",
       "      <td>PA</td>\n",
       "      <td>19107.0</td>\n",
       "      <td>Restaurants, Food, Bubble Tea, Coffee &amp; Tea, B...</td>\n",
       "    </tr>\n",
       "    <tr>\n",
       "      <th>2</th>\n",
       "      <td>3</td>\n",
       "      <td>Perkiomen Valley Brewery</td>\n",
       "      <td>101 Walnut St</td>\n",
       "      <td>Green Lane</td>\n",
       "      <td>PA</td>\n",
       "      <td>18054.0</td>\n",
       "      <td>Brewpubs, Breweries, Food</td>\n",
       "    </tr>\n",
       "    <tr>\n",
       "      <th>3</th>\n",
       "      <td>4</td>\n",
       "      <td>Sonic Drive-In</td>\n",
       "      <td>615 S Main St</td>\n",
       "      <td>Ashland City</td>\n",
       "      <td>TN</td>\n",
       "      <td>37015.0</td>\n",
       "      <td>Burgers, Fast Food, Sandwiches, Food, Ice Crea...</td>\n",
       "    </tr>\n",
       "    <tr>\n",
       "      <th>4</th>\n",
       "      <td>5</td>\n",
       "      <td>Famous Footwear</td>\n",
       "      <td>8522 Eager Road, Dierbergs Brentwood Point</td>\n",
       "      <td>Brentwood</td>\n",
       "      <td>MO</td>\n",
       "      <td>63144.0</td>\n",
       "      <td>Sporting Goods, Fashion, Shoe Stores, Shopping...</td>\n",
       "    </tr>\n",
       "  </tbody>\n",
       "</table>\n",
       "</div>"
      ],
      "text/plain": [
       "   entity_id                      name  \\\n",
       "0          1             The UPS Store   \n",
       "1          2        St Honore Pastries   \n",
       "2          3  Perkiomen Valley Brewery   \n",
       "3          4            Sonic Drive-In   \n",
       "4          5           Famous Footwear   \n",
       "\n",
       "                                      address          city state  \\\n",
       "0             87 Grasso Plaza Shopping Center        Affton    MO   \n",
       "1                                 935 Race St  Philadelphia    PA   \n",
       "2                               101 Walnut St    Green Lane    PA   \n",
       "3                               615 S Main St  Ashland City    TN   \n",
       "4  8522 Eager Road, Dierbergs Brentwood Point     Brentwood    MO   \n",
       "\n",
       "   postal_code                                         categories  \n",
       "0      63123.0  Shipping Centers, Local Services, Notaries, Ma...  \n",
       "1      19107.0  Restaurants, Food, Bubble Tea, Coffee & Tea, B...  \n",
       "2      18054.0                          Brewpubs, Breweries, Food  \n",
       "3      37015.0  Burgers, Fast Food, Sandwiches, Food, Ice Crea...  \n",
       "4      63144.0  Sporting Goods, Fashion, Shoe Stores, Shopping...  "
      ]
     },
     "execution_count": 2,
     "metadata": {},
     "output_type": "execute_result"
    }
   ],
   "source": [
    "left_dataset.head()"
   ]
  },
  {
   "cell_type": "code",
   "execution_count": 3,
   "id": "c21d650d",
   "metadata": {},
   "outputs": [
    {
     "data": {
      "text/html": [
       "<div>\n",
       "<style scoped>\n",
       "    .dataframe tbody tr th:only-of-type {\n",
       "        vertical-align: middle;\n",
       "    }\n",
       "\n",
       "    .dataframe tbody tr th {\n",
       "        vertical-align: top;\n",
       "    }\n",
       "\n",
       "    .dataframe thead th {\n",
       "        text-align: right;\n",
       "    }\n",
       "</style>\n",
       "<table border=\"1\" class=\"dataframe\">\n",
       "  <thead>\n",
       "    <tr style=\"text-align: right;\">\n",
       "      <th></th>\n",
       "      <th>business_id</th>\n",
       "      <th>name</th>\n",
       "      <th>address</th>\n",
       "      <th>city</th>\n",
       "      <th>state</th>\n",
       "      <th>zip_code</th>\n",
       "      <th>size</th>\n",
       "    </tr>\n",
       "  </thead>\n",
       "  <tbody>\n",
       "    <tr>\n",
       "      <th>0</th>\n",
       "      <td>1</td>\n",
       "      <td>SOURINI PAINTING INC.</td>\n",
       "      <td>12800 44th St N</td>\n",
       "      <td>Clearwater</td>\n",
       "      <td>FL</td>\n",
       "      <td>33762-4726</td>\n",
       "      <td>11.0</td>\n",
       "    </tr>\n",
       "    <tr>\n",
       "      <th>1</th>\n",
       "      <td>2</td>\n",
       "      <td>WOLFF DOLLA BILL LLC</td>\n",
       "      <td>1905 E 19th Ave</td>\n",
       "      <td>Tampa</td>\n",
       "      <td>FL</td>\n",
       "      <td>33605-2700</td>\n",
       "      <td>8.0</td>\n",
       "    </tr>\n",
       "    <tr>\n",
       "      <th>2</th>\n",
       "      <td>3</td>\n",
       "      <td>COMPREHENSIVE SURGERY CENTER, LLC</td>\n",
       "      <td>1988 GULF TO BAY BLVD, Ste 1</td>\n",
       "      <td>CLEARWATER</td>\n",
       "      <td>FL</td>\n",
       "      <td>33765-3550</td>\n",
       "      <td>8.0</td>\n",
       "    </tr>\n",
       "    <tr>\n",
       "      <th>3</th>\n",
       "      <td>4</td>\n",
       "      <td>FRANK &amp; ADAM APPAREL LLC</td>\n",
       "      <td>13640 Wright Cir</td>\n",
       "      <td>Tampa</td>\n",
       "      <td>FL</td>\n",
       "      <td>33626-3030</td>\n",
       "      <td>12.0</td>\n",
       "    </tr>\n",
       "    <tr>\n",
       "      <th>4</th>\n",
       "      <td>5</td>\n",
       "      <td>MORENO PLUS TRANSPORT INC</td>\n",
       "      <td>8608 Huron Court unite 58</td>\n",
       "      <td>Tampa</td>\n",
       "      <td>FL</td>\n",
       "      <td>33614</td>\n",
       "      <td>8.0</td>\n",
       "    </tr>\n",
       "  </tbody>\n",
       "</table>\n",
       "</div>"
      ],
      "text/plain": [
       "   business_id                               name  \\\n",
       "0            1              SOURINI PAINTING INC.   \n",
       "1            2               WOLFF DOLLA BILL LLC   \n",
       "2            3  COMPREHENSIVE SURGERY CENTER, LLC   \n",
       "3            4           FRANK & ADAM APPAREL LLC   \n",
       "4            5          MORENO PLUS TRANSPORT INC   \n",
       "\n",
       "                        address        city state    zip_code  size  \n",
       "0               12800 44th St N  Clearwater    FL  33762-4726  11.0  \n",
       "1               1905 E 19th Ave       Tampa    FL  33605-2700   8.0  \n",
       "2  1988 GULF TO BAY BLVD, Ste 1  CLEARWATER    FL  33765-3550   8.0  \n",
       "3              13640 Wright Cir       Tampa    FL  33626-3030  12.0  \n",
       "4     8608 Huron Court unite 58       Tampa    FL       33614   8.0  "
      ]
     },
     "execution_count": 3,
     "metadata": {},
     "output_type": "execute_result"
    }
   ],
   "source": [
    "right_dataset.head()"
   ]
  },
  {
   "cell_type": "markdown",
   "id": "c78ff35b",
   "metadata": {},
   "source": [
    "## Results from different packages"
   ]
  },
  {
   "cell_type": "markdown",
   "id": "8a3e9207",
   "metadata": {},
   "source": [
    "### Rapidfuzz"
   ]
  },
  {
   "cell_type": "code",
   "execution_count": 4,
   "id": "f1cfce69",
   "metadata": {},
   "outputs": [],
   "source": [
    "# Import necessary functions from the module created by Leo Zhou\n",
    "from src.rapidfuzz import clean_text, standardize_zip_code, clean_address, create_enhanced_block_keys, fuzzy_match_with_rapidfuzz"
   ]
  },
  {
   "cell_type": "code",
   "execution_count": 5,
   "id": "d523d5be",
   "metadata": {},
   "outputs": [],
   "source": [
    "# Import dataset in different name to avoid duplication and conflicts\n",
    "left_df = pd.read_csv(left_dataset_path)\n",
    "right_df = pd.read_csv(right_dataset_path)"
   ]
  },
  {
   "cell_type": "code",
   "execution_count": 6,
   "id": "6e20397d",
   "metadata": {},
   "outputs": [],
   "source": [
    "# Apply cleaning steps\n",
    "left_df['name'] = left_df['name'].apply(clean_text)\n",
    "left_df['state'] = left_df['state'].apply(clean_text)\n",
    "left_df['city'] = left_df['city'].apply(clean_text)\n",
    "right_df['name'] = right_df['name'].apply(clean_text)\n",
    "right_df['state'] = right_df['state'].apply(clean_text)\n",
    "right_df['city'] = right_df['city'].apply(clean_text)\n",
    "\n",
    "# Apply zip code standardizing\n",
    "right_df['zip_code'] = right_df['zip_code'].apply(standardize_zip_code)\n",
    "left_df['postal_code'] = left_df['postal_code'].apply(standardize_zip_code)\n",
    "\n",
    "# Apply the address cleaning function to the DataFrame columns\n",
    "left_df['address'] = left_df['address'].apply(clean_address)\n",
    "right_df['address'] = right_df['address'].apply(clean_address)\n",
    "\n",
    "# Extra Step to drop unwanted columns and standardize column names\n",
    "left_df.drop(columns=['categories'], inplace=True)\n",
    "right_df.drop(columns=['size'], inplace=True)\n",
    "\n",
    "left_df.rename(columns={'postal_code': 'zip_code'}, inplace=True)"
   ]
  },
  {
   "cell_type": "code",
   "execution_count": 7,
   "id": "2c4d48f8",
   "metadata": {},
   "outputs": [],
   "source": [
    "# Apply enhanced blocking\n",
    "left_df = create_enhanced_block_keys(left_df)\n",
    "right_df = create_enhanced_block_keys(right_df)"
   ]
  },
  {
   "cell_type": "code",
   "execution_count": 8,
   "id": "fdf5248d",
   "metadata": {},
   "outputs": [],
   "source": [
    "# Creating column for rapidfuzz application\n",
    "left_df['combined'] = left_df['name'].apply(clean_text) + \" \" + left_df['address'].apply(clean_address)\n",
    "right_df['combined'] = right_df['name'].apply(clean_text) + \" \" + right_df['address'].apply(clean_address)"
   ]
  },
  {
   "cell_type": "code",
   "execution_count": 9,
   "id": "381eac9e",
   "metadata": {},
   "outputs": [],
   "source": [
    "from rapidfuzz import process, fuzz\n",
    "\n",
    "# Execute fuzzy matching\n",
    "matched_results = fuzzy_match_with_rapidfuzz(left_df, right_df)"
   ]
  },
  {
   "cell_type": "code",
   "execution_count": 10,
   "id": "f7652355",
   "metadata": {},
   "outputs": [
    {
     "name": "stdout",
     "output_type": "stream",
     "text": [
      "       left_dataset  right_dataset  confidence_score\n",
      "0              8703          20197         85.500000\n",
      "1             19631          20197         85.500000\n",
      "2             73038          20197         85.500000\n",
      "3             85862          20197         85.500000\n",
      "4               903          63344         85.500000\n",
      "...             ...            ...               ...\n",
      "47616          1115          23915         95.000000\n",
      "47617         17529           4609         85.500000\n",
      "47618         59493          22503         95.238095\n",
      "47619         92447          12152         96.721311\n",
      "47620         61857          38198         85.500000\n",
      "\n",
      "[47621 rows x 3 columns]\n"
     ]
    }
   ],
   "source": [
    "print(matched_results)"
   ]
  },
  {
   "cell_type": "code",
   "execution_count": null,
   "id": "7a12be4d",
   "metadata": {},
   "outputs": [],
   "source": []
  }
 ],
 "metadata": {
  "kernelspec": {
   "display_name": "Python 3 (ipykernel)",
   "language": "python",
   "name": "python3"
  },
  "language_info": {
   "codemirror_mode": {
    "name": "ipython",
    "version": 3
   },
   "file_extension": ".py",
   "mimetype": "text/x-python",
   "name": "python",
   "nbconvert_exporter": "python",
   "pygments_lexer": "ipython3",
   "version": "3.11.5"
  }
 },
 "nbformat": 4,
 "nbformat_minor": 5
}