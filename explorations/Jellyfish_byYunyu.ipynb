{
 "cells": [
  {
   "cell_type": "code",
   "execution_count": 43,
   "id": "b16e695c",
   "metadata": {},
   "outputs": [
    {
     "name": "stdout",
     "output_type": "stream",
     "text": [
      "Requirement already satisfied: jellyfish in /Library/Frameworks/Python.framework/Versions/3.12/lib/python3.12/site-packages (1.0.3)\n",
      "\n",
      "\u001b[1m[\u001b[0m\u001b[34;49mnotice\u001b[0m\u001b[1;39;49m]\u001b[0m\u001b[39;49m A new release of pip is available: \u001b[0m\u001b[31;49m23.2.1\u001b[0m\u001b[39;49m -> \u001b[0m\u001b[32;49m24.0\u001b[0m\n",
      "\u001b[1m[\u001b[0m\u001b[34;49mnotice\u001b[0m\u001b[1;39;49m]\u001b[0m\u001b[39;49m To update, run: \u001b[0m\u001b[32;49mpip3 install --upgrade pip\u001b[0m\n",
      "Note: you may need to restart the kernel to use updated packages.\n"
     ]
    }
   ],
   "source": [
    "pip install jellyfish"
   ]
  },
  {
   "cell_type": "code",
   "execution_count": 44,
   "id": "4ca4b8a9",
   "metadata": {},
   "outputs": [],
   "source": [
    "import pandas as pd\n",
    "import jellyfish"
   ]
  },
  {
   "cell_type": "code",
   "execution_count": 45,
   "id": "7f823bdd",
   "metadata": {},
   "outputs": [],
   "source": [
    "def clean_and_merge(left_df, right_df):\n",
    "    # Fill NaN values with empty strings\n",
    "    left_df['address'] = left_df['address'].fillna('')\n",
    "    right_df['address'] = right_df['address'].fillna('')\n",
    "\n",
    "    # Convert 'postal_code' to string type to prevent the potential float issue\n",
    "    left_df['postal_code'] = left_df['postal_code'].astype(str)\n",
    "    right_df['zip_code'] = right_df['zip_code'].astype(str)\n",
    "    \n",
    "    # Create 'zip_prefix' column for both dataframes\n",
    "    left_df['zip_prefix'] = left_df['postal_code'].str[:5]\n",
    "    right_df['zip_prefix'] = right_df['zip_code'].str[:5]\n",
    "\n",
    "    # Merge datasets on 'zip_prefix'\n",
    "    merged_df = pd.merge(left_df, right_df, how='inner', on='zip_prefix')\n",
    "\n",
    "    return merged_df"
   ]
  },
  {
   "cell_type": "code",
   "execution_count": 46,
   "id": "77541c08",
   "metadata": {},
   "outputs": [],
   "source": [
    "# Function to calculate similarity score\n",
    "#Mainly think of comparing the rate of similarity between the name, and the address using the jellyfish package\n",
    "#And return the average of the similarity rate\n",
    "def calculate_similarity(row):\n",
    "    left_name = row['name_x']\n",
    "    left_address = row['address_x']\n",
    "    right_name = row['name_y']\n",
    "    right_address = row['address_y']\n",
    "    \n",
    "    name_similarity = jellyfish.jaro_winkler_similarity(left_name.lower(), right_name.lower())\n",
    "    address_similarity = jellyfish.jaro_winkler_similarity(left_address.lower(), right_address.lower())\n",
    "    \n",
    "    return (name_similarity + address_similarity) / 2"
   ]
  },
  {
   "cell_type": "code",
   "execution_count": 47,
   "id": "24044391",
   "metadata": {},
   "outputs": [],
   "source": [
    "def find_high_confidence_matches(merged_df, threshold=0.80):\n",
    "    # Calculate similarity score\n",
    "    merged_df['similarity_score'] = merged_df.apply(calculate_similarity, axis=1)\n",
    "\n",
    "    # Filter high confidence outcomes\n",
    "    high_confidence_matches = merged_df[merged_df['similarity_score'] > threshold]\n",
    "\n",
    "    # Selecting only the desired columns\n",
    "    high_confidence_matches = high_confidence_matches[['entity_id', 'business_id', 'similarity_score']]\n",
    "    \n",
    "    return high_confidence_matches"
   ]
  },
  {
   "cell_type": "code",
   "execution_count": 48,
   "id": "f98e7212",
   "metadata": {},
   "outputs": [],
   "source": [
    "# Load datasets \n",
    "left_df = pd.read_csv('left_dataset.csv')\n",
    "right_df = pd.read_csv('right_dataset.csv')"
   ]
  },
  {
   "cell_type": "code",
   "execution_count": 50,
   "id": "2f257007",
   "metadata": {},
   "outputs": [
    {
     "data": {
      "text/html": [
       "<div>\n",
       "<style scoped>\n",
       "    .dataframe tbody tr th:only-of-type {\n",
       "        vertical-align: middle;\n",
       "    }\n",
       "\n",
       "    .dataframe tbody tr th {\n",
       "        vertical-align: top;\n",
       "    }\n",
       "\n",
       "    .dataframe thead th {\n",
       "        text-align: right;\n",
       "    }\n",
       "</style>\n",
       "<table border=\"1\" class=\"dataframe\">\n",
       "  <thead>\n",
       "    <tr style=\"text-align: right;\">\n",
       "      <th></th>\n",
       "      <th>entity_id</th>\n",
       "      <th>name</th>\n",
       "      <th>address</th>\n",
       "      <th>city</th>\n",
       "      <th>state</th>\n",
       "      <th>postal_code</th>\n",
       "      <th>categories</th>\n",
       "      <th>zip_prefix</th>\n",
       "    </tr>\n",
       "  </thead>\n",
       "  <tbody>\n",
       "    <tr>\n",
       "      <th>0</th>\n",
       "      <td>1</td>\n",
       "      <td>The UPS Store</td>\n",
       "      <td>87 Grasso Plaza Shopping Center</td>\n",
       "      <td>Affton</td>\n",
       "      <td>MO</td>\n",
       "      <td>63123.0</td>\n",
       "      <td>Shipping Centers, Local Services, Notaries, Ma...</td>\n",
       "      <td>63123</td>\n",
       "    </tr>\n",
       "    <tr>\n",
       "      <th>1</th>\n",
       "      <td>2</td>\n",
       "      <td>St Honore Pastries</td>\n",
       "      <td>935 Race St</td>\n",
       "      <td>Philadelphia</td>\n",
       "      <td>PA</td>\n",
       "      <td>19107.0</td>\n",
       "      <td>Restaurants, Food, Bubble Tea, Coffee &amp; Tea, B...</td>\n",
       "      <td>19107</td>\n",
       "    </tr>\n",
       "    <tr>\n",
       "      <th>2</th>\n",
       "      <td>3</td>\n",
       "      <td>Perkiomen Valley Brewery</td>\n",
       "      <td>101 Walnut St</td>\n",
       "      <td>Green Lane</td>\n",
       "      <td>PA</td>\n",
       "      <td>18054.0</td>\n",
       "      <td>Brewpubs, Breweries, Food</td>\n",
       "      <td>18054</td>\n",
       "    </tr>\n",
       "    <tr>\n",
       "      <th>3</th>\n",
       "      <td>4</td>\n",
       "      <td>Sonic Drive-In</td>\n",
       "      <td>615 S Main St</td>\n",
       "      <td>Ashland City</td>\n",
       "      <td>TN</td>\n",
       "      <td>37015.0</td>\n",
       "      <td>Burgers, Fast Food, Sandwiches, Food, Ice Crea...</td>\n",
       "      <td>37015</td>\n",
       "    </tr>\n",
       "    <tr>\n",
       "      <th>4</th>\n",
       "      <td>5</td>\n",
       "      <td>Famous Footwear</td>\n",
       "      <td>8522 Eager Road, Dierbergs Brentwood Point</td>\n",
       "      <td>Brentwood</td>\n",
       "      <td>MO</td>\n",
       "      <td>63144.0</td>\n",
       "      <td>Sporting Goods, Fashion, Shoe Stores, Shopping...</td>\n",
       "      <td>63144</td>\n",
       "    </tr>\n",
       "  </tbody>\n",
       "</table>\n",
       "</div>"
      ],
      "text/plain": [
       "   entity_id                      name  \\\n",
       "0          1             The UPS Store   \n",
       "1          2        St Honore Pastries   \n",
       "2          3  Perkiomen Valley Brewery   \n",
       "3          4            Sonic Drive-In   \n",
       "4          5           Famous Footwear   \n",
       "\n",
       "                                      address          city state postal_code  \\\n",
       "0             87 Grasso Plaza Shopping Center        Affton    MO     63123.0   \n",
       "1                                 935 Race St  Philadelphia    PA     19107.0   \n",
       "2                               101 Walnut St    Green Lane    PA     18054.0   \n",
       "3                               615 S Main St  Ashland City    TN     37015.0   \n",
       "4  8522 Eager Road, Dierbergs Brentwood Point     Brentwood    MO     63144.0   \n",
       "\n",
       "                                          categories zip_prefix  \n",
       "0  Shipping Centers, Local Services, Notaries, Ma...      63123  \n",
       "1  Restaurants, Food, Bubble Tea, Coffee & Tea, B...      19107  \n",
       "2                          Brewpubs, Breweries, Food      18054  \n",
       "3  Burgers, Fast Food, Sandwiches, Food, Ice Crea...      37015  \n",
       "4  Sporting Goods, Fashion, Shoe Stores, Shopping...      63144  "
      ]
     },
     "execution_count": 50,
     "metadata": {},
     "output_type": "execute_result"
    }
   ],
   "source": [
    "left_df.head()"
   ]
  },
  {
   "cell_type": "code",
   "execution_count": 51,
   "id": "2096adcc",
   "metadata": {},
   "outputs": [
    {
     "data": {
      "text/html": [
       "<div>\n",
       "<style scoped>\n",
       "    .dataframe tbody tr th:only-of-type {\n",
       "        vertical-align: middle;\n",
       "    }\n",
       "\n",
       "    .dataframe tbody tr th {\n",
       "        vertical-align: top;\n",
       "    }\n",
       "\n",
       "    .dataframe thead th {\n",
       "        text-align: right;\n",
       "    }\n",
       "</style>\n",
       "<table border=\"1\" class=\"dataframe\">\n",
       "  <thead>\n",
       "    <tr style=\"text-align: right;\">\n",
       "      <th></th>\n",
       "      <th>business_id</th>\n",
       "      <th>name</th>\n",
       "      <th>address</th>\n",
       "      <th>city</th>\n",
       "      <th>state</th>\n",
       "      <th>zip_code</th>\n",
       "      <th>size</th>\n",
       "      <th>zip_prefix</th>\n",
       "    </tr>\n",
       "  </thead>\n",
       "  <tbody>\n",
       "    <tr>\n",
       "      <th>0</th>\n",
       "      <td>1</td>\n",
       "      <td>SOURINI PAINTING INC.</td>\n",
       "      <td>12800 44th St N</td>\n",
       "      <td>Clearwater</td>\n",
       "      <td>FL</td>\n",
       "      <td>33762-4726</td>\n",
       "      <td>11.0</td>\n",
       "      <td>33762</td>\n",
       "    </tr>\n",
       "    <tr>\n",
       "      <th>1</th>\n",
       "      <td>2</td>\n",
       "      <td>WOLFF DOLLA BILL LLC</td>\n",
       "      <td>1905 E 19th Ave</td>\n",
       "      <td>Tampa</td>\n",
       "      <td>FL</td>\n",
       "      <td>33605-2700</td>\n",
       "      <td>8.0</td>\n",
       "      <td>33605</td>\n",
       "    </tr>\n",
       "    <tr>\n",
       "      <th>2</th>\n",
       "      <td>3</td>\n",
       "      <td>COMPREHENSIVE SURGERY CENTER, LLC</td>\n",
       "      <td>1988 GULF TO BAY BLVD, Ste 1</td>\n",
       "      <td>CLEARWATER</td>\n",
       "      <td>FL</td>\n",
       "      <td>33765-3550</td>\n",
       "      <td>8.0</td>\n",
       "      <td>33765</td>\n",
       "    </tr>\n",
       "    <tr>\n",
       "      <th>3</th>\n",
       "      <td>4</td>\n",
       "      <td>FRANK &amp; ADAM APPAREL LLC</td>\n",
       "      <td>13640 Wright Cir</td>\n",
       "      <td>Tampa</td>\n",
       "      <td>FL</td>\n",
       "      <td>33626-3030</td>\n",
       "      <td>12.0</td>\n",
       "      <td>33626</td>\n",
       "    </tr>\n",
       "    <tr>\n",
       "      <th>4</th>\n",
       "      <td>5</td>\n",
       "      <td>MORENO PLUS TRANSPORT INC</td>\n",
       "      <td>8608 Huron Court unite 58</td>\n",
       "      <td>Tampa</td>\n",
       "      <td>FL</td>\n",
       "      <td>33614</td>\n",
       "      <td>8.0</td>\n",
       "      <td>33614</td>\n",
       "    </tr>\n",
       "  </tbody>\n",
       "</table>\n",
       "</div>"
      ],
      "text/plain": [
       "   business_id                               name  \\\n",
       "0            1              SOURINI PAINTING INC.   \n",
       "1            2               WOLFF DOLLA BILL LLC   \n",
       "2            3  COMPREHENSIVE SURGERY CENTER, LLC   \n",
       "3            4           FRANK & ADAM APPAREL LLC   \n",
       "4            5          MORENO PLUS TRANSPORT INC   \n",
       "\n",
       "                        address        city state    zip_code  size zip_prefix  \n",
       "0               12800 44th St N  Clearwater    FL  33762-4726  11.0      33762  \n",
       "1               1905 E 19th Ave       Tampa    FL  33605-2700   8.0      33605  \n",
       "2  1988 GULF TO BAY BLVD, Ste 1  CLEARWATER    FL  33765-3550   8.0      33765  \n",
       "3              13640 Wright Cir       Tampa    FL  33626-3030  12.0      33626  \n",
       "4     8608 Huron Court unite 58       Tampa    FL       33614   8.0      33614  "
      ]
     },
     "execution_count": 51,
     "metadata": {},
     "output_type": "execute_result"
    }
   ],
   "source": [
    "right_df.head()"
   ]
  },
  {
   "cell_type": "code",
   "execution_count": 52,
   "id": "0f92c062",
   "metadata": {},
   "outputs": [],
   "source": [
    "# Clean and merge datasets\n",
    "merged_df = clean_and_merge(left_df, right_df)\n",
    "\n",
    "# Find high confidence matches\n",
    "high_confidence_matches = find_high_confidence_matches(merged_df, threshold=0.80)"
   ]
  },
  {
   "cell_type": "code",
   "execution_count": 53,
   "id": "b027dd24",
   "metadata": {},
   "outputs": [
    {
     "name": "stdout",
     "output_type": "stream",
     "text": [
      "          entity_id  business_id  similarity_score\n",
      "1183              2        78912          0.870370\n",
      "1184              2        78913          0.874644\n",
      "1697              7        36752          0.823996\n",
      "2161              8        82927          0.875940\n",
      "2192              8        84021          0.889006\n",
      "...             ...          ...               ...\n",
      "34699424      94560        74887          0.816667\n",
      "34704127      94578        37588          0.800659\n",
      "34704206      94578        39631          0.815330\n",
      "34705583      94579        80357          0.951985\n",
      "34706871      94583        85069          0.803968\n",
      "\n",
      "[25659 rows x 3 columns]\n"
     ]
    }
   ],
   "source": [
    "# Display high confidence matches\n",
    "print(high_confidence_matches)"
   ]
  },
  {
   "cell_type": "code",
   "execution_count": 54,
   "id": "701e8e46",
   "metadata": {},
   "outputs": [],
   "source": [
    "high_confidence_matches.to_csv('Jellyfish_matches.csv', index=False)"
   ]
  }
 ],
 "metadata": {
  "kernelspec": {
   "display_name": "Python 3 (ipykernel)",
   "language": "python",
   "name": "python3"
  },
  "language_info": {
   "codemirror_mode": {
    "name": "ipython",
    "version": 3
   },
   "file_extension": ".py",
   "mimetype": "text/x-python",
   "name": "python",
   "nbconvert_exporter": "python",
   "pygments_lexer": "ipython3",
   "version": "3.11.5"
  }
 },
 "nbformat": 4,
 "nbformat_minor": 5
}
