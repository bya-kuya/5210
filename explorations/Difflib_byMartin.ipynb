{
 "cells": [
  {
   "cell_type": "code",
   "execution_count": 34,
   "id": "14d2e848",
   "metadata": {},
   "outputs": [],
   "source": [
    "import pandas as pd\n",
    "import re\n",
    "from difflib import SequenceMatcher\n",
    "\n",
    "# Load the datasets\n",
    "left_dataset_path = '/Users/martinng/Desktop/Columbia/2024_Spring/Python for Data Analysis/Project/Data/GroupProject/entity-resolution/left_dataset.csv'\n",
    "right_dataset_path = '/Users/martinng/Desktop/Columbia/2024_Spring/Python for Data Analysis/Project/Data/GroupProject/entity-resolution/right_dataset.csv'\n",
    "\n",
    "left_df = pd.read_csv(left_dataset_path)\n",
    "right_df = pd.read_csv(right_dataset_path)"
   ]
  },
  {
   "cell_type": "code",
   "execution_count": 35,
   "id": "f0bfb58a",
   "metadata": {},
   "outputs": [],
   "source": [
    "def clean_text(text):\n",
    "    \"\"\"Lowercase, remove special characters, and strip whitespace.\"\"\"\n",
    "    text = text.lower()\n",
    "    text = re.sub(r'[\\W_]+', ' ', text)  # Replace all non-word characters with space\n",
    "    return text.strip()\n",
    "\n",
    "# Apply text cleaning\n",
    "left_df['name'] = left_df['name'].apply(clean_text)\n",
    "left_df['state'] = left_df['state'].apply(clean_text)\n",
    "left_df['city'] = left_df['city'].apply(clean_text)\n",
    "right_df['name'] = right_df['name'].apply(clean_text)\n",
    "right_df['state'] = right_df['state'].apply(clean_text)\n",
    "right_df['city'] = right_df['city'].apply(clean_text)"
   ]
  },
  {
   "cell_type": "code",
   "execution_count": 36,
   "id": "40c70caa",
   "metadata": {},
   "outputs": [],
   "source": [
    "def standardize_zip_code(zip_code):\n",
    "    \"\"\"Ensure zip code is a string, truncate or pad to 5 digits.\"\"\"\n",
    "    zip_code = str(zip_code)\n",
    "    return zip_code[:5].zfill(5)  # Pad or truncate to ensure 5 characters\n",
    "\n",
    "left_df['postal_code'] = left_df['postal_code'].apply(standardize_zip_code)\n",
    "right_df['zip_code'] = right_df['zip_code'].apply(standardize_zip_code)"
   ]
  },
  {
   "cell_type": "code",
   "execution_count": 37,
   "id": "d348789b",
   "metadata": {},
   "outputs": [],
   "source": [
    "def clean_address(address):\n",
    "    \"\"\"Standardize and clean the address, handling NaN values gracefully.\"\"\"\n",
    "    if pd.isna(address):\n",
    "        return \"\"\n",
    "    address = address.lower()\n",
    "    address = re.sub(r'\\bstreet\\b', 'st', address)\n",
    "    address = re.sub(r'\\broad\\b', 'rd', address)\n",
    "    address = re.sub(r'\\bavenue\\b', 'ave', address)\n",
    "    address = re.sub(r'\\bdrive\\b', 'dr', address)\n",
    "    address = re.sub(r'[^a-zA-Z0-9\\s]', '', address)\n",
    "    address = re.sub(r'\\s+', ' ', address).strip()\n",
    "    return address\n",
    "\n",
    "left_df['address'] = left_df['address'].apply(clean_address)\n",
    "right_df['address'] = right_df['address'].apply(clean_address)"
   ]
  },
  {
   "cell_type": "code",
   "execution_count": 38,
   "id": "033aa302",
   "metadata": {},
   "outputs": [],
   "source": [
    "# Extra Step to drop unwanted columns and standardize column names\n",
    "left_df.drop(columns=['categories'], inplace=True)\n",
    "right_df.drop(columns=['size'], inplace=True)\n",
    "\n",
    "left_df.rename(columns={'postal_code': 'zip_code'}, inplace=True)"
   ]
  },
  {
   "cell_type": "code",
   "execution_count": 39,
   "id": "39a259f0",
   "metadata": {},
   "outputs": [],
   "source": [
    "def create_enhanced_block_keys(df):\n",
    "    \"\"\"Generate block keys by combining several fields.\"\"\"\n",
    "    df['block_key'] = df.apply(lambda x:\n",
    "                                (x['name'][0].lower() if pd.notna(x['name']) and x['name'] != \"\" else '0') +\n",
    "                                \"_\" + (x['state'].upper() if pd.notna(x['state']) else 'Unknown') +\n",
    "                                \"_\" + (x['city'][0].lower() if pd.notna(x['city']) and x['city'] != \"\" else '0') +\n",
    "                                \"_\" + (str(x['zip_code'])[:5] if pd.notna(x['zip_code']) else '00000'), axis=1)\n",
    "    return df"
   ]
  },
  {
   "cell_type": "code",
   "execution_count": 40,
   "id": "fe45acf3",
   "metadata": {},
   "outputs": [],
   "source": [
    "left_df = create_enhanced_block_keys(left_df)\n",
    "right_df = create_enhanced_block_keys(right_df)\n",
    "\n",
    "left_df['combined'] = left_df['name'].apply(clean_text) + \" \" + left_df['address'].apply(clean_address)\n",
    "right_df['combined'] = right_df['name'].apply(clean_text) + \" \" + right_df['address'].apply(clean_address)"
   ]
  },
  {
   "cell_type": "code",
   "execution_count": 41,
   "id": "d30e3977",
   "metadata": {},
   "outputs": [],
   "source": [
    "def fuzzy_match_with_difflib(left_df, right_df, threshold=0.80):\n",
    "    results = []\n",
    "    common_blocks = set(left_df['block_key']).intersection(set(right_df['block_key']))\n",
    "\n",
    "    for block in common_blocks:\n",
    "        left_block = left_df[left_df['block_key'] == block]\n",
    "        right_block = right_df[right_df['block_key'] == block]\n",
    "        for _, left_row in left_block.iterrows():\n",
    "            best_match = None\n",
    "            best_score = threshold\n",
    "            for _, right_row in right_block.iterrows():\n",
    "                score = SequenceMatcher(None, left_row['combined'], right_row['combined']).ratio()\n",
    "                if score > best_score:\n",
    "                    best_score = score\n",
    "                    best_match = right_row['business_id']\n",
    "\n",
    "            if best_match:\n",
    "                match_data = {\n",
    "                    'left_id': left_row['entity_id'],\n",
    "                    'right_id': best_match,\n",
    "                    'match_score': best_score\n",
    "                }\n",
    "                results.append(match_data)\n",
    "\n",
    "    return pd.DataFrame(results)"
   ]
  },
  {
   "cell_type": "code",
   "execution_count": 44,
   "id": "67d9ab36",
   "metadata": {},
   "outputs": [
    {
     "name": "stdout",
     "output_type": "stream",
     "text": [
      "       left_id  right_id  match_score\n",
      "0         6355     54035     0.883117\n",
      "1        32241     75157     0.935484\n",
      "2        49462     54385     0.615385\n",
      "3        54382     71170     0.961538\n",
      "4        74713     54860     0.738095\n",
      "...        ...       ...          ...\n",
      "22951    41738     40255     0.842105\n",
      "22952    59208     41959     0.781250\n",
      "22953    25560     23897     0.935484\n",
      "22954    23247     76128     0.941176\n",
      "22955    54529     57701     0.952381\n",
      "\n",
      "[22956 rows x 3 columns]\n"
     ]
    }
   ],
   "source": [
    "matched_results = fuzzy_match_with_difflib(left_df, right_df,0.6)\n",
    "print(matched_results)"
   ]
  },
  {
   "cell_type": "code",
   "execution_count": null,
   "id": "46a6c15a",
   "metadata": {},
   "outputs": [],
   "source": []
  }
 ],
 "metadata": {
  "kernelspec": {
   "display_name": "Python 3 (ipykernel)",
   "language": "python",
   "name": "python3"
  },
  "language_info": {
   "codemirror_mode": {
    "name": "ipython",
    "version": 3
   },
   "file_extension": ".py",
   "mimetype": "text/x-python",
   "name": "python",
   "nbconvert_exporter": "python",
   "pygments_lexer": "ipython3",
   "version": "3.11.5"
  }
 },
 "nbformat": 4,
 "nbformat_minor": 5
}
