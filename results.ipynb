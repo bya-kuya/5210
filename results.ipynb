{
 "cells": [
  {
   "cell_type": "markdown",
   "id": "43cea27a",
   "metadata": {},
   "source": [
    "# Dataset Import"
   ]
  },
  {
   "cell_type": "code",
   "execution_count": 1,
   "id": "8d6354a0",
   "metadata": {},
   "outputs": [],
   "source": [
    "import pandas as pd\n",
    "# Load the datasets\n",
    "left_dataset_path = './data/left_dataset.csv'\n",
    "right_dataset_path = './data/right_dataset.csv'\n",
    "\n",
    "left_dataset = pd.read_csv(left_dataset_path)\n",
    "right_dataset = pd.read_csv(right_dataset_path)"
   ]
  },
  {
   "cell_type": "code",
   "execution_count": 2,
   "id": "36d022a2",
   "metadata": {
    "scrolled": true
   },
   "outputs": [
    {
     "data": {
      "text/html": [
       "<div>\n",
       "<style scoped>\n",
       "    .dataframe tbody tr th:only-of-type {\n",
       "        vertical-align: middle;\n",
       "    }\n",
       "\n",
       "    .dataframe tbody tr th {\n",
       "        vertical-align: top;\n",
       "    }\n",
       "\n",
       "    .dataframe thead th {\n",
       "        text-align: right;\n",
       "    }\n",
       "</style>\n",
       "<table border=\"1\" class=\"dataframe\">\n",
       "  <thead>\n",
       "    <tr style=\"text-align: right;\">\n",
       "      <th></th>\n",
       "      <th>entity_id</th>\n",
       "      <th>name</th>\n",
       "      <th>address</th>\n",
       "      <th>city</th>\n",
       "      <th>state</th>\n",
       "      <th>postal_code</th>\n",
       "      <th>categories</th>\n",
       "    </tr>\n",
       "  </thead>\n",
       "  <tbody>\n",
       "    <tr>\n",
       "      <th>0</th>\n",
       "      <td>1</td>\n",
       "      <td>The UPS Store</td>\n",
       "      <td>87 Grasso Plaza Shopping Center</td>\n",
       "      <td>Affton</td>\n",
       "      <td>MO</td>\n",
       "      <td>63123.0</td>\n",
       "      <td>Shipping Centers, Local Services, Notaries, Ma...</td>\n",
       "    </tr>\n",
       "    <tr>\n",
       "      <th>1</th>\n",
       "      <td>2</td>\n",
       "      <td>St Honore Pastries</td>\n",
       "      <td>935 Race St</td>\n",
       "      <td>Philadelphia</td>\n",
       "      <td>PA</td>\n",
       "      <td>19107.0</td>\n",
       "      <td>Restaurants, Food, Bubble Tea, Coffee &amp; Tea, B...</td>\n",
       "    </tr>\n",
       "    <tr>\n",
       "      <th>2</th>\n",
       "      <td>3</td>\n",
       "      <td>Perkiomen Valley Brewery</td>\n",
       "      <td>101 Walnut St</td>\n",
       "      <td>Green Lane</td>\n",
       "      <td>PA</td>\n",
       "      <td>18054.0</td>\n",
       "      <td>Brewpubs, Breweries, Food</td>\n",
       "    </tr>\n",
       "    <tr>\n",
       "      <th>3</th>\n",
       "      <td>4</td>\n",
       "      <td>Sonic Drive-In</td>\n",
       "      <td>615 S Main St</td>\n",
       "      <td>Ashland City</td>\n",
       "      <td>TN</td>\n",
       "      <td>37015.0</td>\n",
       "      <td>Burgers, Fast Food, Sandwiches, Food, Ice Crea...</td>\n",
       "    </tr>\n",
       "    <tr>\n",
       "      <th>4</th>\n",
       "      <td>5</td>\n",
       "      <td>Famous Footwear</td>\n",
       "      <td>8522 Eager Road, Dierbergs Brentwood Point</td>\n",
       "      <td>Brentwood</td>\n",
       "      <td>MO</td>\n",
       "      <td>63144.0</td>\n",
       "      <td>Sporting Goods, Fashion, Shoe Stores, Shopping...</td>\n",
       "    </tr>\n",
       "  </tbody>\n",
       "</table>\n",
       "</div>"
      ],
      "text/plain": [
       "   entity_id                      name  \\\n",
       "0          1             The UPS Store   \n",
       "1          2        St Honore Pastries   \n",
       "2          3  Perkiomen Valley Brewery   \n",
       "3          4            Sonic Drive-In   \n",
       "4          5           Famous Footwear   \n",
       "\n",
       "                                      address          city state  \\\n",
       "0             87 Grasso Plaza Shopping Center        Affton    MO   \n",
       "1                                 935 Race St  Philadelphia    PA   \n",
       "2                               101 Walnut St    Green Lane    PA   \n",
       "3                               615 S Main St  Ashland City    TN   \n",
       "4  8522 Eager Road, Dierbergs Brentwood Point     Brentwood    MO   \n",
       "\n",
       "   postal_code                                         categories  \n",
       "0      63123.0  Shipping Centers, Local Services, Notaries, Ma...  \n",
       "1      19107.0  Restaurants, Food, Bubble Tea, Coffee & Tea, B...  \n",
       "2      18054.0                          Brewpubs, Breweries, Food  \n",
       "3      37015.0  Burgers, Fast Food, Sandwiches, Food, Ice Crea...  \n",
       "4      63144.0  Sporting Goods, Fashion, Shoe Stores, Shopping...  "
      ]
     },
     "execution_count": 2,
     "metadata": {},
     "output_type": "execute_result"
    }
   ],
   "source": [
    "left_dataset.head()"
   ]
  },
  {
   "cell_type": "code",
   "execution_count": 3,
   "id": "c21d650d",
   "metadata": {},
   "outputs": [
    {
     "data": {
      "text/html": [
       "<div>\n",
       "<style scoped>\n",
       "    .dataframe tbody tr th:only-of-type {\n",
       "        vertical-align: middle;\n",
       "    }\n",
       "\n",
       "    .dataframe tbody tr th {\n",
       "        vertical-align: top;\n",
       "    }\n",
       "\n",
       "    .dataframe thead th {\n",
       "        text-align: right;\n",
       "    }\n",
       "</style>\n",
       "<table border=\"1\" class=\"dataframe\">\n",
       "  <thead>\n",
       "    <tr style=\"text-align: right;\">\n",
       "      <th></th>\n",
       "      <th>business_id</th>\n",
       "      <th>name</th>\n",
       "      <th>address</th>\n",
       "      <th>city</th>\n",
       "      <th>state</th>\n",
       "      <th>zip_code</th>\n",
       "      <th>size</th>\n",
       "    </tr>\n",
       "  </thead>\n",
       "  <tbody>\n",
       "    <tr>\n",
       "      <th>0</th>\n",
       "      <td>1</td>\n",
       "      <td>SOURINI PAINTING INC.</td>\n",
       "      <td>12800 44th St N</td>\n",
       "      <td>Clearwater</td>\n",
       "      <td>FL</td>\n",
       "      <td>33762-4726</td>\n",
       "      <td>11.0</td>\n",
       "    </tr>\n",
       "    <tr>\n",
       "      <th>1</th>\n",
       "      <td>2</td>\n",
       "      <td>WOLFF DOLLA BILL LLC</td>\n",
       "      <td>1905 E 19th Ave</td>\n",
       "      <td>Tampa</td>\n",
       "      <td>FL</td>\n",
       "      <td>33605-2700</td>\n",
       "      <td>8.0</td>\n",
       "    </tr>\n",
       "    <tr>\n",
       "      <th>2</th>\n",
       "      <td>3</td>\n",
       "      <td>COMPREHENSIVE SURGERY CENTER, LLC</td>\n",
       "      <td>1988 GULF TO BAY BLVD, Ste 1</td>\n",
       "      <td>CLEARWATER</td>\n",
       "      <td>FL</td>\n",
       "      <td>33765-3550</td>\n",
       "      <td>8.0</td>\n",
       "    </tr>\n",
       "    <tr>\n",
       "      <th>3</th>\n",
       "      <td>4</td>\n",
       "      <td>FRANK &amp; ADAM APPAREL LLC</td>\n",
       "      <td>13640 Wright Cir</td>\n",
       "      <td>Tampa</td>\n",
       "      <td>FL</td>\n",
       "      <td>33626-3030</td>\n",
       "      <td>12.0</td>\n",
       "    </tr>\n",
       "    <tr>\n",
       "      <th>4</th>\n",
       "      <td>5</td>\n",
       "      <td>MORENO PLUS TRANSPORT INC</td>\n",
       "      <td>8608 Huron Court unite 58</td>\n",
       "      <td>Tampa</td>\n",
       "      <td>FL</td>\n",
       "      <td>33614</td>\n",
       "      <td>8.0</td>\n",
       "    </tr>\n",
       "  </tbody>\n",
       "</table>\n",
       "</div>"
      ],
      "text/plain": [
       "   business_id                               name  \\\n",
       "0            1              SOURINI PAINTING INC.   \n",
       "1            2               WOLFF DOLLA BILL LLC   \n",
       "2            3  COMPREHENSIVE SURGERY CENTER, LLC   \n",
       "3            4           FRANK & ADAM APPAREL LLC   \n",
       "4            5          MORENO PLUS TRANSPORT INC   \n",
       "\n",
       "                        address        city state    zip_code  size  \n",
       "0               12800 44th St N  Clearwater    FL  33762-4726  11.0  \n",
       "1               1905 E 19th Ave       Tampa    FL  33605-2700   8.0  \n",
       "2  1988 GULF TO BAY BLVD, Ste 1  CLEARWATER    FL  33765-3550   8.0  \n",
       "3              13640 Wright Cir       Tampa    FL  33626-3030  12.0  \n",
       "4     8608 Huron Court unite 58       Tampa    FL       33614   8.0  "
      ]
     },
     "execution_count": 3,
     "metadata": {},
     "output_type": "execute_result"
    }
   ],
   "source": [
    "right_dataset.head()"
   ]
  },
  {
   "cell_type": "markdown",
   "id": "c78ff35b",
   "metadata": {},
   "source": [
    "## Results from different packages"
   ]
  },
  {
   "cell_type": "markdown",
   "id": "8a3e9207",
   "metadata": {},
   "source": [
    "### Rapidfuzz"
   ]
  },
  {
   "cell_type": "code",
   "execution_count": 4,
   "id": "f1cfce69",
   "metadata": {},
   "outputs": [],
   "source": [
    "# Import necessary functions from the module created by Leo Zhou\n",
    "from src.rapidfuzz import clean_text, standardize_zip_code, clean_address, create_enhanced_block_keys, fuzzy_match_with_rapidfuzz"
   ]
  },
  {
   "cell_type": "code",
   "execution_count": 5,
   "id": "d523d5be",
   "metadata": {},
   "outputs": [],
   "source": [
    "# Import dataset in different name to avoid duplication and conflicts\n",
    "left_df = pd.read_csv(left_dataset_path)\n",
    "right_df = pd.read_csv(right_dataset_path)"
   ]
  },
  {
   "cell_type": "code",
   "execution_count": 6,
   "id": "6e20397d",
   "metadata": {},
   "outputs": [],
   "source": [
    "# Apply cleaning steps\n",
    "left_df['name'] = left_df['name'].apply(clean_text)\n",
    "left_df['state'] = left_df['state'].apply(clean_text)\n",
    "left_df['city'] = left_df['city'].apply(clean_text)\n",
    "right_df['name'] = right_df['name'].apply(clean_text)\n",
    "right_df['state'] = right_df['state'].apply(clean_text)\n",
    "right_df['city'] = right_df['city'].apply(clean_text)\n",
    "\n",
    "# Apply zip code standardizing\n",
    "right_df['zip_code'] = right_df['zip_code'].apply(standardize_zip_code)\n",
    "left_df['postal_code'] = left_df['postal_code'].apply(standardize_zip_code)\n",
    "\n",
    "# Apply the address cleaning function to the DataFrame columns\n",
    "left_df['address'] = left_df['address'].apply(clean_address)\n",
    "right_df['address'] = right_df['address'].apply(clean_address)\n",
    "\n",
    "# Extra Step to drop unwanted columns and standardize column names\n",
    "left_df.drop(columns=['categories'], inplace=True)\n",
    "right_df.drop(columns=['size'], inplace=True)\n",
    "\n",
    "left_df.rename(columns={'postal_code': 'zip_code'}, inplace=True)"
   ]
  },
  {
   "cell_type": "code",
   "execution_count": 7,
   "id": "2c4d48f8",
   "metadata": {},
   "outputs": [],
   "source": [
    "# Apply enhanced blocking\n",
    "left_df = create_enhanced_block_keys(left_df)\n",
    "right_df = create_enhanced_block_keys(right_df)"
   ]
  },
  {
   "cell_type": "code",
   "execution_count": 8,
   "id": "fdf5248d",
   "metadata": {},
   "outputs": [],
   "source": [
    "# Creating column for rapidfuzz application\n",
    "left_df['combined'] = left_df['name'].apply(clean_text) + \" \" + left_df['address'].apply(clean_address)\n",
    "right_df['combined'] = right_df['name'].apply(clean_text) + \" \" + right_df['address'].apply(clean_address)"
   ]
  },
  {
   "cell_type": "code",
   "execution_count": 9,
   "id": "381eac9e",
   "metadata": {},
   "outputs": [],
   "source": [
    "from rapidfuzz import process, fuzz\n",
    "\n",
    "# Execute fuzzy matching\n",
    "matched_results = fuzzy_match_with_rapidfuzz(left_df, right_df)"
   ]
  },
  {
   "cell_type": "code",
   "execution_count": 10,
   "id": "f7652355",
   "metadata": {},
   "outputs": [
    {
     "name": "stdout",
     "output_type": "stream",
     "text": [
      "       left_dataset  right_dataset  confidence_score\n",
      "0              8703          20197         85.500000\n",
      "1             19631          20197         85.500000\n",
      "2             73038          20197         85.500000\n",
      "3             85862          20197         85.500000\n",
      "4               903          63344         85.500000\n",
      "...             ...            ...               ...\n",
      "47616          1115          23915         95.000000\n",
      "47617         17529           4609         85.500000\n",
      "47618         59493          22503         95.238095\n",
      "47619         92447          12152         96.721311\n",
      "47620         61857          38198         85.500000\n",
      "\n",
      "[47621 rows x 3 columns]\n"
     ]
    }
   ],
   "source": [
    "print(matched_results)"
   ]
  },
  {
   "cell_type": "markdown",
   "id": "1996a6a0",
   "metadata": {},
   "source": [
    "### recordlinkage"
   ]
  },
  {
   "cell_type": "code",
   "execution_count": 3,
   "id": "85709c96",
   "metadata": {},
   "outputs": [],
   "source": [
    "import pandas as pd\n",
    "import recordlinkage\n",
    "from recordlinkage.preprocessing import clean, phonetic\n",
    "from src.recordlinkage import preprocess_data"
   ]
  },
  {
   "cell_type": "code",
   "execution_count": 4,
   "id": "78a31b0b",
   "metadata": {},
   "outputs": [],
   "source": [
    "left = pd.read_csv(left_dataset_path)\n",
    "right = pd.read_csv(right_dataset_path)"
   ]
  },
  {
   "cell_type": "code",
   "execution_count": 8,
   "id": "a5b140bc",
   "metadata": {},
   "outputs": [],
   "source": [
    "left = preprocess_data(left)\n",
    "right = preprocess_data(right)"
   ]
  },
  {
   "cell_type": "code",
   "execution_count": 9,
   "id": "feea39d2",
   "metadata": {},
   "outputs": [],
   "source": [
    "left.rename(columns={'postal_code': 'zip_code'}, inplace=True)"
   ]
  },
  {
   "cell_type": "code",
   "execution_count": 10,
   "id": "9d33b35a",
   "metadata": {},
   "outputs": [],
   "source": [
    "string_columns = ['address', 'city', 'state', 'zip_code']\n",
    "for column in string_columns:\n",
    "    left[column] = left[column].astype(str)\n",
    "    right[column] = right[column].astype(str)"
   ]
  },
  {
   "cell_type": "code",
   "execution_count": 11,
   "id": "3bdc856c",
   "metadata": {},
   "outputs": [],
   "source": [
    "left['address'] = left['address'].str.cat(left[['city', 'state', 'zip_code']], sep=' ')\n",
    "right['address'] = right['address'].str.cat(right[['city', 'state', 'zip_code']], sep=' ')\n"
   ]
  },
  {
   "cell_type": "code",
   "execution_count": 12,
   "id": "bc5393c5",
   "metadata": {},
   "outputs": [],
   "source": [
    "columns_to_keep_left = ['entity_id', 'name', 'address']\n",
    "columns_to_keep_right = ['business_id', 'name', 'address']\n",
    "left_common = left[columns_to_keep_left]\n",
    "right_common = right[columns_to_keep_right]"
   ]
  },
  {
   "cell_type": "code",
   "execution_count": 13,
   "id": "e696aa13",
   "metadata": {},
   "outputs": [
    {
     "name": "stderr",
     "output_type": "stream",
     "text": [
      "C:\\Users\\Johnz\\AppData\\Local\\Temp\\ipykernel_101080\\1235932494.py:1: SettingWithCopyWarning: \n",
      "A value is trying to be set on a copy of a slice from a DataFrame.\n",
      "Try using .loc[row_indexer,col_indexer] = value instead\n",
      "\n",
      "See the caveats in the documentation: https://pandas.pydata.org/pandas-docs/stable/user_guide/indexing.html#returning-a-view-versus-a-copy\n",
      "  left_common['block_key'] = left_common['name'].str[:5]\n",
      "C:\\Users\\Johnz\\AppData\\Local\\Temp\\ipykernel_101080\\1235932494.py:2: SettingWithCopyWarning: \n",
      "A value is trying to be set on a copy of a slice from a DataFrame.\n",
      "Try using .loc[row_indexer,col_indexer] = value instead\n",
      "\n",
      "See the caveats in the documentation: https://pandas.pydata.org/pandas-docs/stable/user_guide/indexing.html#returning-a-view-versus-a-copy\n",
      "  right_common['block_key'] = right_common['name'].str[:5]\n"
     ]
    }
   ],
   "source": [
    "left_common['block_key'] = left_common['name'].str[:5]\n",
    "right_common['block_key'] = right_common['name'].str[:5]"
   ]
  },
  {
   "cell_type": "code",
   "execution_count": 14,
   "id": "6a57eca7",
   "metadata": {},
   "outputs": [],
   "source": [
    "indexer = recordlinkage.Index()\n",
    "indexer.block('block_key')\n",
    "candidate_links = indexer.index(left_common, right_common)"
   ]
  },
  {
   "cell_type": "code",
   "execution_count": 15,
   "id": "47ab3fc1",
   "metadata": {},
   "outputs": [],
   "source": [
    "comparer = recordlinkage.Compare()\n",
    "comparer.string('name', 'name', method='jarowinkler', label='name_similarity')\n",
    "comparer.string('address', 'address', method='jarowinkler', label='address_similarity')\n",
    "features = comparer.compute(candidate_links, left_common, right_common)"
   ]
  },
  {
   "cell_type": "code",
   "execution_count": 16,
   "id": "9e31c8fd",
   "metadata": {},
   "outputs": [],
   "source": [
    "features['confidence_score'] = features.mean(axis=1)"
   ]
  },
  {
   "cell_type": "code",
   "execution_count": 17,
   "id": "b4a48659",
   "metadata": {},
   "outputs": [],
   "source": [
    "threshold = 0.8\n",
    "matches = features[features['confidence_score'] >= threshold]"
   ]
  },
  {
   "cell_type": "code",
   "execution_count": 19,
   "id": "81f15719",
   "metadata": {},
   "outputs": [
    {
     "name": "stderr",
     "output_type": "stream",
     "text": [
      "C:\\Users\\Johnz\\AppData\\Local\\Temp\\ipykernel_101080\\891293443.py:1: SettingWithCopyWarning: \n",
      "A value is trying to be set on a copy of a slice from a DataFrame.\n",
      "Try using .loc[row_indexer,col_indexer] = value instead\n",
      "\n",
      "See the caveats in the documentation: https://pandas.pydata.org/pandas-docs/stable/user_guide/indexing.html#returning-a-view-versus-a-copy\n",
      "  matches['entity_id'] = matches.index.get_level_values(0)\n",
      "C:\\Users\\Johnz\\AppData\\Local\\Temp\\ipykernel_101080\\891293443.py:2: SettingWithCopyWarning: \n",
      "A value is trying to be set on a copy of a slice from a DataFrame.\n",
      "Try using .loc[row_indexer,col_indexer] = value instead\n",
      "\n",
      "See the caveats in the documentation: https://pandas.pydata.org/pandas-docs/stable/user_guide/indexing.html#returning-a-view-versus-a-copy\n",
      "  matches['business_id'] = matches.index.get_level_values(1)\n"
     ]
    }
   ],
   "source": [
    "matches['entity_id'] = matches.index.get_level_values(0)\n",
    "matches['business_id'] = matches.index.get_level_values(1)"
   ]
  },
  {
   "cell_type": "code",
   "execution_count": 20,
   "id": "683556b9",
   "metadata": {},
   "outputs": [
    {
     "name": "stdout",
     "output_type": "stream",
     "text": [
      "             entity_id  business_id  confidence_score\n",
      "7     81911          7        81911          0.812385\n",
      "      82926          7        82926          0.895760\n",
      "      84020          7        84020          0.893032\n",
      "3260  82926       3260        82926          0.809016\n",
      "      83734       3260        83734          0.808502\n",
      "...                ...          ...               ...\n",
      "94033 79875      94033        79875          0.994118\n",
      "94034 72786      94034        72786          0.967469\n",
      "94036 53965      94036        53965          0.953301\n",
      "94167 69598      94167        69598          0.960116\n",
      "94538 79362      94538        79362          0.946438\n",
      "\n",
      "[33298 rows x 3 columns]\n"
     ]
    }
   ],
   "source": [
    "columns=columns = ['entity_id', 'business_id', 'confidence_score']\n",
    "matched = pd.DataFrame(matches[['entity_id', 'business_id', 'confidence_score']], columns=columns)\n",
    "print(matched)"
   ]
  },
  {
   "cell_type": "markdown",
   "id": "927c2dfc",
   "metadata": {},
   "source": [
    "### Jellyfish"
   ]
  },
  {
   "cell_type": "code",
   "execution_count": 1,
   "id": "c0c6b4aa",
   "metadata": {},
   "outputs": [],
   "source": [
    "import pandas as pd\n",
    "import jellyfish\n",
    "from src.jellyfish import clean_and_merge, calculate_similarity, find_high_confidence_matches"
   ]
  },
  {
   "cell_type": "code",
   "execution_count": 3,
   "id": "d77e22fc",
   "metadata": {},
   "outputs": [],
   "source": [
    "# Load the datasets\n",
    "left_dataset = pd.read_csv(left_dataset_path)\n",
    "right_dataset = pd.read_csv(right_dataset_path)"
   ]
  },
  {
   "cell_type": "code",
   "execution_count": 4,
   "id": "7de18557",
   "metadata": {},
   "outputs": [],
   "source": [
    "# Clean and merge dataset using the function\n",
    "merged_df = clean_and_merge(left_dataset, right_dataset)\n",
    "\n",
    "# Find high confidence matches with the set up of the threshold\n",
    "high_confidence_matches = find_high_confidence_matches(merged_df, threshold=0.80)"
   ]
  },
  {
   "cell_type": "code",
   "execution_count": 5,
   "id": "ba16d86e",
   "metadata": {},
   "outputs": [
    {
     "name": "stdout",
     "output_type": "stream",
     "text": [
      "          entity_id  business_id  similarity_score\n",
      "424               7        36752          0.823996\n",
      "2606           2887        40775          0.976190\n",
      "2863           2887        49464          0.817110\n",
      "3462           3241        41513          0.857944\n",
      "3693           3241        49438          0.975000\n",
      "...             ...          ...               ...\n",
      "34706430      39137        48887          0.962963\n",
      "34706661      45570        51316          0.975238\n",
      "34706730      49626        48119          0.921447\n",
      "34706746      49626        49649          0.988889\n",
      "34707154      79058        49649          0.843804\n",
      "\n",
      "[25659 rows x 3 columns]\n"
     ]
    }
   ],
   "source": [
    "print(high_confidence_matches)"
   ]
  },
  {
   "cell_type": "markdown",
   "id": "3d9028c4",
   "metadata": {},
   "source": [
    "### Difflib"
   ]
  },
  {
   "cell_type": "code",
   "execution_count": 4,
   "id": "12136747",
   "metadata": {},
   "outputs": [],
   "source": [
    "import pandas as pd\n",
    "import re\n",
    "from difflib import SequenceMatcher\n",
    "from src.difflib import clean_text, standardize_zip_code, clean_address, create_enhanced_block_keys, fuzzy_match_with_difflib\n",
    "\n",
    "# Load the datasets\n",
    "left_dataset_path = '/Users/martinng/Desktop/Columbia/2024_Spring/Python for Data Analysis/Project/Data/GroupProject/entity-resolution/left_dataset.csv'\n",
    "right_dataset_path = '/Users/martinng/Desktop/Columbia/2024_Spring/Python for Data Analysis/Project/Data/GroupProject/entity-resolution/right_dataset.csv'\n",
    "\n",
    "left_df = pd.read_csv(left_dataset_path)\n",
    "right_df = pd.read_csv(right_dataset_path)"
   ]
  },
  {
   "cell_type": "code",
   "execution_count": 6,
   "id": "8f72f4e5",
   "metadata": {},
   "outputs": [],
   "source": [
    "# Apply text cleaning\n",
    "left_df['name'] = left_df['name'].apply(clean_text)\n",
    "left_df['state'] = left_df['state'].apply(clean_text)\n",
    "left_df['city'] = left_df['city'].apply(clean_text)\n",
    "right_df['name'] = right_df['name'].apply(clean_text)\n",
    "right_df['state'] = right_df['state'].apply(clean_text)\n",
    "right_df['city'] = right_df['city'].apply(clean_text)\n",
    "\n",
    "left_df['postal_code'] = left_df['postal_code'].apply(standardize_zip_code)\n",
    "right_df['zip_code'] = right_df['zip_code'].apply(standardize_zip_code)\n",
    "\n",
    "left_df['address'] = left_df['address'].apply(clean_address)\n",
    "right_df['address'] = right_df['address'].apply(clean_address)\n",
    "\n",
    "# Extra Step to drop unwanted columns and standardize column names\n",
    "left_df.drop(columns=['categories'], inplace=True)\n",
    "right_df.drop(columns=['size'], inplace=True)\n",
    "left_df.rename(columns={'postal_code': 'zip_code'}, inplace=True)\n",
    "\n",
    "left_df = create_enhanced_block_keys(left_df)\n",
    "right_df = create_enhanced_block_keys(right_df)\n",
    "\n",
    "left_df['combined'] = left_df['name'].apply(clean_text) + \" \" + left_df['address'].apply(clean_address)\n",
    "right_df['combined'] = right_df['name'].apply(clean_text) + \" \" + right_df['address'].apply(clean_address)"
   ]
  },
  {
   "cell_type": "code",
   "execution_count": 7,
   "id": "83251620",
   "metadata": {},
   "outputs": [
    {
     "name": "stdout",
     "output_type": "stream",
     "text": [
      "       left_id  right_id  match_score\n",
      "0         1941     77575     0.843750\n",
      "1        44647     77575     0.620690\n",
      "2        69578     65157     0.842105\n",
      "3        85017     65157     0.629213\n",
      "4         1551     51504     0.948718\n",
      "...        ...       ...          ...\n",
      "22951    13437      8755     0.633663\n",
      "22952    38931     18080     0.666667\n",
      "22953    51923      8755     0.622222\n",
      "22954    93260      8755     0.972477\n",
      "22955    94192     22264     0.754098\n",
      "\n",
      "[22956 rows x 3 columns]\n"
     ]
    }
   ],
   "source": [
    "matched_results = fuzzy_match_with_difflib(left_df, right_df,0.6)\n",
    "print(matched_results)"
   ]
  },
  {
   "cell_type": "code",
   "execution_count": null,
   "id": "e3ef9662",
   "metadata": {},
   "outputs": [],
   "source": []
  },
  {
   "cell_type": "code",
   "execution_count": null,
   "id": "39a050e3",
   "metadata": {},
   "outputs": [],
   "source": []
  },
  {
   "cell_type": "code",
   "execution_count": null,
   "id": "dfce3c9b",
   "metadata": {},
   "outputs": [],
   "source": []
  }
 ],
 "metadata": {
  "kernelspec": {
   "display_name": "Python 3 (ipykernel)",
   "language": "python",
   "name": "python3"
  },
  "language_info": {
   "codemirror_mode": {
    "name": "ipython",
    "version": 3
   },
   "file_extension": ".py",
   "mimetype": "text/x-python",
   "name": "python",
   "nbconvert_exporter": "python",
   "pygments_lexer": "ipython3",
   "version": "3.11.5"
  }
 },
 "nbformat": 4,
 "nbformat_minor": 5
}
