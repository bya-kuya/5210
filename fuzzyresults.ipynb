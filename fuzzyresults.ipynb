{
 "cells": [
  {
   "cell_type": "code",
   "execution_count": 1,
   "outputs": [],
   "source": [
    "import pandas as pd\n",
    "from src.utils import (preprocess_text, format_zip_code,\n",
    "                       standardize_address, generate_block_keys, perform_fuzzy_matching)"
   ],
   "metadata": {
    "collapsed": false,
    "pycharm": {
     "name": "#%%\n"
    }
   }
  },
  {
   "cell_type": "code",
   "execution_count": 2,
   "outputs": [
    {
     "data": {
      "text/plain": "   entity_id                      name  \\\n0          1             The UPS Store   \n1          2        St Honore Pastries   \n2          3  Perkiomen Valley Brewery   \n3          4            Sonic Drive-In   \n4          5           Famous Footwear   \n\n                                      address          city state  \\\n0             87 Grasso Plaza Shopping Center        Affton    MO   \n1                                 935 Race St  Philadelphia    PA   \n2                               101 Walnut St    Green Lane    PA   \n3                               615 S Main St  Ashland City    TN   \n4  8522 Eager Road, Dierbergs Brentwood Point     Brentwood    MO   \n\n   postal_code                                         categories  \n0      63123.0  Shipping Centers, Local Services, Notaries, Ma...  \n1      19107.0  Restaurants, Food, Bubble Tea, Coffee & Tea, B...  \n2      18054.0                          Brewpubs, Breweries, Food  \n3      37015.0  Burgers, Fast Food, Sandwiches, Food, Ice Crea...  \n4      63144.0  Sporting Goods, Fashion, Shoe Stores, Shopping...  ",
      "text/html": "<div>\n<style scoped>\n    .dataframe tbody tr th:only-of-type {\n        vertical-align: middle;\n    }\n\n    .dataframe tbody tr th {\n        vertical-align: top;\n    }\n\n    .dataframe thead th {\n        text-align: right;\n    }\n</style>\n<table border=\"1\" class=\"dataframe\">\n  <thead>\n    <tr style=\"text-align: right;\">\n      <th></th>\n      <th>entity_id</th>\n      <th>name</th>\n      <th>address</th>\n      <th>city</th>\n      <th>state</th>\n      <th>postal_code</th>\n      <th>categories</th>\n    </tr>\n  </thead>\n  <tbody>\n    <tr>\n      <th>0</th>\n      <td>1</td>\n      <td>The UPS Store</td>\n      <td>87 Grasso Plaza Shopping Center</td>\n      <td>Affton</td>\n      <td>MO</td>\n      <td>63123.0</td>\n      <td>Shipping Centers, Local Services, Notaries, Ma...</td>\n    </tr>\n    <tr>\n      <th>1</th>\n      <td>2</td>\n      <td>St Honore Pastries</td>\n      <td>935 Race St</td>\n      <td>Philadelphia</td>\n      <td>PA</td>\n      <td>19107.0</td>\n      <td>Restaurants, Food, Bubble Tea, Coffee &amp; Tea, B...</td>\n    </tr>\n    <tr>\n      <th>2</th>\n      <td>3</td>\n      <td>Perkiomen Valley Brewery</td>\n      <td>101 Walnut St</td>\n      <td>Green Lane</td>\n      <td>PA</td>\n      <td>18054.0</td>\n      <td>Brewpubs, Breweries, Food</td>\n    </tr>\n    <tr>\n      <th>3</th>\n      <td>4</td>\n      <td>Sonic Drive-In</td>\n      <td>615 S Main St</td>\n      <td>Ashland City</td>\n      <td>TN</td>\n      <td>37015.0</td>\n      <td>Burgers, Fast Food, Sandwiches, Food, Ice Crea...</td>\n    </tr>\n    <tr>\n      <th>4</th>\n      <td>5</td>\n      <td>Famous Footwear</td>\n      <td>8522 Eager Road, Dierbergs Brentwood Point</td>\n      <td>Brentwood</td>\n      <td>MO</td>\n      <td>63144.0</td>\n      <td>Sporting Goods, Fashion, Shoe Stores, Shopping...</td>\n    </tr>\n  </tbody>\n</table>\n</div>"
     },
     "execution_count": 2,
     "metadata": {},
     "output_type": "execute_result"
    }
   ],
   "source": [
    "# Load the left dataset\n",
    "left_dataset_path = './data/left_dataset.csv'\n",
    "left_df = pd.read_csv(left_dataset_path)\n",
    "left_df.head()  # Display the first few rows of the left dataset"
   ],
   "metadata": {
    "collapsed": false,
    "pycharm": {
     "name": "#%%\n"
    }
   }
  },
  {
   "cell_type": "code",
   "execution_count": 3,
   "outputs": [
    {
     "data": {
      "text/plain": "   business_id                               name  \\\n0            1              SOURINI PAINTING INC.   \n1            2               WOLFF DOLLA BILL LLC   \n2            3  COMPREHENSIVE SURGERY CENTER, LLC   \n3            4           FRANK & ADAM APPAREL LLC   \n4            5          MORENO PLUS TRANSPORT INC   \n\n                        address        city state    zip_code  size  \n0               12800 44th St N  Clearwater    FL  33762-4726  11.0  \n1               1905 E 19th Ave       Tampa    FL  33605-2700   8.0  \n2  1988 GULF TO BAY BLVD, Ste 1  CLEARWATER    FL  33765-3550   8.0  \n3              13640 Wright Cir       Tampa    FL  33626-3030  12.0  \n4     8608 Huron Court unite 58       Tampa    FL       33614   8.0  ",
      "text/html": "<div>\n<style scoped>\n    .dataframe tbody tr th:only-of-type {\n        vertical-align: middle;\n    }\n\n    .dataframe tbody tr th {\n        vertical-align: top;\n    }\n\n    .dataframe thead th {\n        text-align: right;\n    }\n</style>\n<table border=\"1\" class=\"dataframe\">\n  <thead>\n    <tr style=\"text-align: right;\">\n      <th></th>\n      <th>business_id</th>\n      <th>name</th>\n      <th>address</th>\n      <th>city</th>\n      <th>state</th>\n      <th>zip_code</th>\n      <th>size</th>\n    </tr>\n  </thead>\n  <tbody>\n    <tr>\n      <th>0</th>\n      <td>1</td>\n      <td>SOURINI PAINTING INC.</td>\n      <td>12800 44th St N</td>\n      <td>Clearwater</td>\n      <td>FL</td>\n      <td>33762-4726</td>\n      <td>11.0</td>\n    </tr>\n    <tr>\n      <th>1</th>\n      <td>2</td>\n      <td>WOLFF DOLLA BILL LLC</td>\n      <td>1905 E 19th Ave</td>\n      <td>Tampa</td>\n      <td>FL</td>\n      <td>33605-2700</td>\n      <td>8.0</td>\n    </tr>\n    <tr>\n      <th>2</th>\n      <td>3</td>\n      <td>COMPREHENSIVE SURGERY CENTER, LLC</td>\n      <td>1988 GULF TO BAY BLVD, Ste 1</td>\n      <td>CLEARWATER</td>\n      <td>FL</td>\n      <td>33765-3550</td>\n      <td>8.0</td>\n    </tr>\n    <tr>\n      <th>3</th>\n      <td>4</td>\n      <td>FRANK &amp; ADAM APPAREL LLC</td>\n      <td>13640 Wright Cir</td>\n      <td>Tampa</td>\n      <td>FL</td>\n      <td>33626-3030</td>\n      <td>12.0</td>\n    </tr>\n    <tr>\n      <th>4</th>\n      <td>5</td>\n      <td>MORENO PLUS TRANSPORT INC</td>\n      <td>8608 Huron Court unite 58</td>\n      <td>Tampa</td>\n      <td>FL</td>\n      <td>33614</td>\n      <td>8.0</td>\n    </tr>\n  </tbody>\n</table>\n</div>"
     },
     "execution_count": 3,
     "metadata": {},
     "output_type": "execute_result"
    }
   ],
   "source": [
    "# Load the right dataset\n",
    "right_dataset_path = './data/right_dataset.csv'\n",
    "right_df = pd.read_csv(right_dataset_path)\n",
    "right_df.head()  # Display the first few rows of the right dataset"
   ],
   "metadata": {
    "collapsed": false,
    "pycharm": {
     "name": "#%%\n"
    }
   }
  },
  {
   "cell_type": "code",
   "execution_count": 4,
   "outputs": [],
   "source": [
    "# List of columns to preprocess\n",
    "columns_to_preprocess = [\"name\", \"state\", \"city\"]\n",
    "\n",
    "# Apply the preprocess_text function to specified columns in both dataframes\n",
    "for col in columns_to_preprocess:\n",
    "    # Apply preprocessing to the 'left_df'\n",
    "    left_df[col] = left_df[col].apply(preprocess_text)\n",
    "    # Apply preprocessing to the 'right_df'\n",
    "    right_df[col] = right_df[col].apply(preprocess_text)\n"
   ],
   "metadata": {
    "collapsed": false,
    "pycharm": {
     "name": "#%%\n"
    }
   }
  },
  {
   "cell_type": "code",
   "execution_count": 5,
   "outputs": [],
   "source": [
    "# right_df['zip_code'] = right_df['zip_code'].apply(format_zip_code)\n",
    "# left_df['postal_code'] = left_df['postal_code'].apply(format_zip_code)\n",
    "# Apply the format_zip_code function to the zip code columns of both dataframes\n",
    "# Format the 'zip_code' in the right dataframe\n",
    "right_df['zip_code'] = right_df['zip_code'].apply(format_zip_code)\n",
    "\n",
    "# Format the 'postal_code' in the left dataframe and rename it to 'zip_code' for consistency\n",
    "left_df['postal_code'] = left_df['postal_code'].apply(format_zip_code)\n",
    "left_df.rename(columns={'postal_code': 'zip_code'}, inplace=True)\n"
   ],
   "metadata": {
    "collapsed": false,
    "pycharm": {
     "name": "#%%\n"
    }
   }
  },
  {
   "cell_type": "code",
   "execution_count": 6,
   "outputs": [],
   "source": [
    "# Standardize the 'address' columns in both left and right dataframes\n",
    "# This enhances data consistency for potential matching or analysis tasks\n",
    "# Clean the address in the left dataframe\n",
    "left_df['address'] = left_df['address'].apply(standardize_address)\n",
    "# Clean the address in the right dataframe\n",
    "right_df['address'] = right_df['address'].apply(standardize_address)\n"
   ],
   "metadata": {
    "collapsed": false,
    "pycharm": {
     "name": "#%%\n"
    }
   }
  },
  {
   "cell_type": "code",
   "execution_count": 7,
   "outputs": [],
   "source": [
    "# Drop unwanted columns from each dataframe to clean and streamline the datasets\n",
    "# Remove the 'categories' column from the left dataframe\n",
    "left_df.drop(columns=['categories'], inplace=True)\n",
    "\n",
    "# Remove the 'size' column from the right dataframe\n",
    "right_df.drop(columns=['size'], inplace=True)\n"
   ],
   "metadata": {
    "collapsed": false,
    "pycharm": {
     "name": "#%%\n"
    }
   }
  },
  {
   "cell_type": "code",
   "execution_count": 8,
   "outputs": [],
   "source": [
    "# Apply the generate_block_keys function to both dataframes to enhance data matching efficiency\n",
    "# This function creates a new 'block_key' column based on combinations of other columns,\n",
    "# which is used to reduce the comparison space for potential matching operations.\n",
    "\n",
    "# Apply enhanced blocking to the left dataframe\n",
    "left_df = generate_block_keys(left_df)\n",
    "\n",
    "# Apply enhanced blocking to the right dataframe\n",
    "right_df = generate_block_keys(right_df)\n"
   ],
   "metadata": {
    "collapsed": false,
    "pycharm": {
     "name": "#%%\n"
    }
   }
  },
  {
   "cell_type": "code",
   "execution_count": 9,
   "outputs": [],
   "source": [
    "# Combine and preprocess the 'name' and 'address' columns to create a 'combined' column for each dataframe\n",
    "# This combined column will be used for improved data matching and comparison by providing a unified format.\n",
    "\n",
    "# Combine and preprocess 'name' and 'address' for the left dataframe\n",
    "left_df['combined'] = left_df['name'].apply(preprocess_text) + \" \" + left_df['address'].apply(preprocess_text)\n",
    "\n",
    "# Combine and preprocess 'name' and 'address' for the right dataframe\n",
    "right_df['combined'] = right_df['name'].apply(preprocess_text) + \" \" + right_df['address'].apply(preprocess_text)\n"
   ],
   "metadata": {
    "collapsed": false,
    "pycharm": {
     "name": "#%%\n"
    }
   }
  },
  {
   "cell_type": "code",
   "execution_count": 10,
   "outputs": [
    {
     "name": "stdout",
     "output_type": "stream",
     "text": [
      "CPU times: total: 4min 57s\n",
      "Wall time: 4min 57s\n"
     ]
    }
   ],
   "source": [
    "%%time\n",
    "# Execute fuzzy matching between the left and right dataframes using the perform_fuzzy_matching function\n",
    "# This process will identify potential matches based on the 'combined' column created previously,\n",
    "# using a set threshold to determine match quality.\n",
    "\n",
    "matched_results = perform_fuzzy_matching(left_df, right_df)\n"
   ],
   "metadata": {
    "collapsed": false,
    "pycharm": {
     "name": "#%%\n"
    }
   }
  },
  {
   "cell_type": "code",
   "execution_count": 11,
   "outputs": [],
   "source": [
    "# Rename columns in the matched_results DataFrame to enhance readability and data understanding\n",
    "# This change helps clarify the meanings of the columns in subsequent analyses or reports.\n",
    "\n",
    "matched_results = matched_results.rename(columns={\n",
    "    'left_id': 'left_dataset',      # Rename 'left_id' to 'left_dataset' to indicate the source of the data\n",
    "    'right_id': 'right_dataset',   # Rename 'right_id' to 'right_dataset' to indicate the target of the data\n",
    "    'match_score': 'confidence_score'  # Rename 'match_score' to 'confidence_score' to reflect its purpose as a measure of match quality\n",
    "})\n"
   ],
   "metadata": {
    "collapsed": false,
    "pycharm": {
     "name": "#%%\n"
    }
   }
  },
  {
   "cell_type": "code",
   "execution_count": 11,
   "outputs": [],
   "source": [],
   "metadata": {
    "collapsed": false,
    "pycharm": {
     "name": "#%%\n"
    }
   }
  }
 ],
 "metadata": {
  "kernelspec": {
   "display_name": "Python 3",
   "language": "python",
   "name": "python3"
  },
  "language_info": {
   "codemirror_mode": {
    "name": "ipython",
    "version": 2
   },
   "file_extension": ".py",
   "mimetype": "text/x-python",
   "name": "python",
   "nbconvert_exporter": "python",
   "pygments_lexer": "ipython2",
   "version": "2.7.6"
  }
 },
 "nbformat": 4,
 "nbformat_minor": 0
}