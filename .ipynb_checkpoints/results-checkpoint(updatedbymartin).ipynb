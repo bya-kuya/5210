{
 "cells": [
  {
   "cell_type": "markdown",
   "id": "43cea27a",
   "metadata": {},
   "source": [
    "# Dataset Import"
   ]
  },
  {
   "cell_type": "code",
   "execution_count": null,
   "id": "8d6354a0",
   "metadata": {},
   "outputs": [],
   "source": [
    "import pandas as pd\n",
    "# Load the datasets\n",
    "left_dataset_path = './data/left_dataset.csv'\n",
    "right_dataset_path = './data/right_dataset.csv'\n",
    "\n",
    "left_dataset = pd.read_csv(left_dataset_path)\n",
    "right_dataset = pd.read_csv(right_dataset_path)"
   ]
  },
  {
   "cell_type": "code",
   "execution_count": null,
   "id": "36d022a2",
   "metadata": {
    "scrolled": true
   },
   "outputs": [],
   "source": [
    "left_dataset.head()"
   ]
  },
  {
   "cell_type": "code",
   "execution_count": null,
   "id": "c21d650d",
   "metadata": {},
   "outputs": [],
   "source": [
    "right_dataset.head()"
   ]
  },
  {
   "cell_type": "markdown",
   "id": "c78ff35b",
   "metadata": {},
   "source": [
    "## Results from different packages"
   ]
  },
  {
   "cell_type": "markdown",
   "id": "8a3e9207",
   "metadata": {},
   "source": [
    "### Rapidfuzz"
   ]
  },
  {
   "cell_type": "code",
   "execution_count": null,
   "id": "f1cfce69",
   "metadata": {},
   "outputs": [],
   "source": [
    "# Import necessary functions from the module created by Leo Zhou\n",
    "from src.rapidfuzz import clean_text, standardize_zip_code, clean_address, create_enhanced_block_keys, fuzzy_match_with_rapidfuzz"
   ]
  },
  {
   "cell_type": "code",
   "execution_count": null,
   "id": "d523d5be",
   "metadata": {},
   "outputs": [],
   "source": [
    "# Import dataset in different name to avoid duplication and conflicts\n",
    "left_df = pd.read_csv(left_dataset_path)\n",
    "right_df = pd.read_csv(right_dataset_path)"
   ]
  },
  {
   "cell_type": "code",
   "execution_count": null,
   "id": "6e20397d",
   "metadata": {},
   "outputs": [],
   "source": [
    "# Apply cleaning steps\n",
    "left_df['name'] = left_df['name'].apply(clean_text)\n",
    "left_df['state'] = left_df['state'].apply(clean_text)\n",
    "left_df['city'] = left_df['city'].apply(clean_text)\n",
    "right_df['name'] = right_df['name'].apply(clean_text)\n",
    "right_df['state'] = right_df['state'].apply(clean_text)\n",
    "right_df['city'] = right_df['city'].apply(clean_text)\n",
    "\n",
    "# Apply zip code standardizing\n",
    "right_df['zip_code'] = right_df['zip_code'].apply(standardize_zip_code)\n",
    "left_df['postal_code'] = left_df['postal_code'].apply(standardize_zip_code)\n",
    "\n",
    "# Apply the address cleaning function to the DataFrame columns\n",
    "left_df['address'] = left_df['address'].apply(clean_address)\n",
    "right_df['address'] = right_df['address'].apply(clean_address)\n",
    "\n",
    "# Extra Step to drop unwanted columns and standardize column names\n",
    "left_df.drop(columns=['categories'], inplace=True)\n",
    "right_df.drop(columns=['size'], inplace=True)\n",
    "\n",
    "left_df.rename(columns={'postal_code': 'zip_code'}, inplace=True)"
   ]
  },
  {
   "cell_type": "code",
   "execution_count": null,
   "id": "2c4d48f8",
   "metadata": {},
   "outputs": [],
   "source": [
    "# Apply enhanced blocking\n",
    "left_df = create_enhanced_block_keys(left_df)\n",
    "right_df = create_enhanced_block_keys(right_df)"
   ]
  },
  {
   "cell_type": "code",
   "execution_count": null,
   "id": "fdf5248d",
   "metadata": {},
   "outputs": [],
   "source": [
    "# Creating column for rapidfuzz application\n",
    "left_df['combined'] = left_df['name'].apply(clean_text) + \" \" + left_df['address'].apply(clean_address)\n",
    "right_df['combined'] = right_df['name'].apply(clean_text) + \" \" + right_df['address'].apply(clean_address)"
   ]
  },
  {
   "cell_type": "code",
   "execution_count": null,
   "id": "381eac9e",
   "metadata": {},
   "outputs": [],
   "source": [
    "from rapidfuzz import process, fuzz\n",
    "\n",
    "# Execute fuzzy matching\n",
    "matched_results = fuzzy_match_with_rapidfuzz(left_df, right_df)"
   ]
  },
  {
   "cell_type": "code",
   "execution_count": null,
   "id": "f7652355",
   "metadata": {},
   "outputs": [],
   "source": [
    "print(matched_results)"
   ]
  },
  {
   "cell_type": "markdown",
   "id": "1dca3173",
   "metadata": {},
   "source": [
    "### Difflib"
   ]
  },
  {
   "cell_type": "code",
   "execution_count": null,
   "id": "7a12be4d",
   "metadata": {},
   "outputs": [],
   "source": [
    "# Import necessary functions from the module created by Martin Ng\n",
    "from src.difflib import clean_text, standardize_zip_code, clean_address, create_enhanced_block_keys, fuzzy_match_with_difflib"
   ]
  },
  {
   "cell_type": "code",
   "execution_count": null,
   "id": "281ac4b8",
   "metadata": {},
   "outputs": [],
   "source": [
    "left_df = pd.read_csv(left_dataset_path)\n",
    "right_df = pd.read_csv(right_dataset_path)"
   ]
  },
  {
   "cell_type": "code",
   "execution_count": null,
   "id": "6c84ec1e",
   "metadata": {},
   "outputs": [],
   "source": [
    "left_df['name'] = left_df['name'].apply(clean_text)\n",
    "left_df['state'] = left_df['state'].apply(clean_text)\n",
    "left_df['city'] = left_df['city'].apply(clean_text)\n",
    "right_df['name'] = right_df['name'].apply(clean_text)\n",
    "right_df['state'] = right_df['state'].apply(clean_text)\n",
    "right_df['city'] = right_df['city'].apply(clean_text)\n",
    "\n",
    "left_df['postal_code'] = left_df['postal_code'].apply(standardize_zip_code)\n",
    "right_df['zip_code'] = right_df['zip_code'].apply(standardize_zip_code)\n",
    "\n",
    "left_df['address'] = left_df['address'].apply(clean_address)\n",
    "right_df['address'] = right_df['address'].apply(clean_address)\n",
    "\n",
    "left_df.drop(columns=['categories'], inplace=True)\n",
    "right_df.drop(columns=['size'], inplace=True)\n",
    "\n",
    "left_df.rename(columns={'postal_code': 'zip_code'}, inplace=True)\n",
    "\n",
    "left_df = create_enhanced_block_keys(left_df)\n",
    "right_df = create_enhanced_block_keys(right_df)\n",
    "\n",
    "left_df['combined'] = left_df['name'].apply(clean_text) + \" \" + left_df['address'].apply(clean_address)\n",
    "right_df['combined'] = right_df['name'].apply(clean_text) + \" \" + right_df['address'].apply(clean_address)"
   ]
  },
  {
   "cell_type": "code",
   "execution_count": null,
   "id": "93d8c61d",
   "metadata": {},
   "outputs": [],
   "source": [
    "from difflib import SequenceMatcher\n",
    "\n",
    "# Execute fuzzy matching\n",
    "matched_results = fuzzy_match_with_difflib(left_df, right_df)"
   ]
  },
  {
   "cell_type": "code",
   "execution_count": null,
   "id": "db20ecfd",
   "metadata": {},
   "outputs": [],
   "source": [
    "print(matched_results)"
   ]
  }
 ],
 "metadata": {
  "kernelspec": {
   "display_name": "Python 3 (ipykernel)",
   "language": "python",
   "name": "python3"
  },
  "language_info": {
   "codemirror_mode": {
    "name": "ipython",
    "version": 3
   },
   "file_extension": ".py",
   "mimetype": "text/x-python",
   "name": "python",
   "nbconvert_exporter": "python",
   "pygments_lexer": "ipython3",
   "version": "3.11.5"
  }
 },
 "nbformat": 4,
 "nbformat_minor": 5
}
